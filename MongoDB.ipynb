{
  "nbformat": 4,
  "nbformat_minor": 0,
  "metadata": {
    "colab": {
      "provenance": []
    },
    "kernelspec": {
      "name": "python3",
      "display_name": "Python 3"
    },
    "language_info": {
      "name": "python"
    }
  },
  "cells": [
    {
      "cell_type": "markdown",
      "source": [
        "1. Key Differences Between SQL and NoSQL Databases\n",
        "\n",
        "SQL databases are relational, structured, and use fixed schemas (e.g., MySQL). NoSQL databases are non-relational, schema-less, and store data flexibly (e.g., MongoDB). SQL is better for complex queries; NoSQL is better for scalability.\n",
        "\n",
        "2. Why MongoDB is a Good Choice for Modern Applications\n",
        "\n",
        "MongoDB supports schema flexibility, horizontal scaling, high availability, and efficient handling of large, unstructured data, making it ideal for real-time applications, big data, and agile development workflows.\n",
        "\n",
        "3. Concept of Collections in MongoDB\n",
        "\n",
        "Collections in MongoDB are analogous to tables in SQL. They store related documents (records) and provide a structure for grouping data without enforcing a fixed schema.\n",
        "\n",
        "4. High Availability Through Replication in MongoDB\n",
        "\n",
        "MongoDB uses replica sets, where a primary node handles writes and secondary nodes replicate data for read operations or failover, ensuring availability during node failure.\n",
        "\n",
        "5. Benefits of MongoDB Atlas\n",
        "\n",
        "MongoDB Atlas offers automatic scaling, global distribution, automated backups, and a fully managed cloud database service, reducing operational overhead and ensuring reliability.\n",
        "\n",
        "6. Role of Indexes in MongoDB and Performance Improvement\n",
        "\n",
        "Indexes improve query performance by allowing MongoDB to quickly locate data without scanning the entire collection. They enhance speed for reads but require additional storage.\n",
        "\n",
        "7. Stages of the MongoDB Aggregation Pipeline\n",
        "\n",
        "The aggregation pipeline consists of stages like $match, $group, $sort, and $project, which sequentially process and transform documents for data analysis and manipulation.\n",
        "\n",
        "8. Sharding vs. Replication in MongoDB\n",
        "\n",
        "Sharding distributes data across multiple servers for horizontal scaling, while replication duplicates data for high availability and fault tolerance. They address different scalability needs.\n",
        "\n",
        "9. PyMongo and Its Use\n",
        "\n",
        "PyMongo is a Python driver for MongoDB. It provides an interface for connecting to MongoDB, performing CRUD operations, and working with its database functionalities.\n",
        "\n",
        "10. ACID Properties in MongoDB Transactions\n",
        "\n",
        "ACID (Atomicity, Consistency, Isolation, Durability) ensures reliable, isolated, and fault-tolerant transactions in MongoDB, especially for multi-document operations requiring strict data consistency.\n",
        "\n",
        "11. Purpose of MongoDB’s explain() Function\n",
        "\n",
        "The explain() function provides details about query execution plans, such as indexes used, query efficiency, and resource consumption, helping optimize performance.\n",
        "\n",
        "12. How MongoDB Handles Schema Validation\n",
        "\n",
        "MongoDB allows schema validation using JSON Schema to enforce rules on document fields, ensuring data integrity without compromising flexibility.\n",
        "\n",
        "13. Difference Between Primary and Secondary Nodes in Replica Sets\n",
        "\n",
        "The primary node handles all writes, while secondary nodes replicate data from the primary and handle read requests or act as backups during failover.\n",
        "\n",
        "14. Security Mechanisms in MongoDB\n",
        "\n",
        "MongoDB supports authentication, authorization, encryption (TLS/SSL), auditing, and IP whitelisting for robust data protection and secure database access.\n",
        "\n",
        "15. Embedded Documents in MongoDB\n",
        "\n",
        "Embedded documents store related data within a single document, reducing joins and improving performance. They are used when data is highly related and frequently accessed together.\n",
        "\n",
        "16. Purpose of MongoDB’s $lookup Stage\n",
        "\n",
        "The $lookup stage performs left outer joins between collections, enabling retrieval of related data from different collections within the aggregation pipeline.\n",
        "\n",
        "17. Common Use Cases for MongoDB\n",
        "\n",
        "MongoDB is used in content management, e-commerce, IoT applications, real-time analytics, social media platforms, and any use case requiring schema flexibility and scalability.\n",
        "\n",
        "18. Advantages of MongoDB for Horizontal Scaling\n",
        "\n",
        "MongoDB’s sharding distributes data across servers, enabling efficient horizontal scaling by handling growing data volumes and workloads without degrading performance.\n",
        "\n",
        "19. How MongoDB Transactions Differ From SQL Transactions\n",
        "\n",
        "MongoDB transactions are suitable for multi-document operations within replica sets and provide ACID guarantees, but SQL databases offer more mature transaction management.\n",
        "\n",
        "20. Differences Between Capped and Regular Collections\n",
        "\n",
        "Capped collections have fixed size and order, are auto-deleting, and support fast inserts. Regular collections are flexible and used for general-purpose storage.\n",
        "\n",
        "21. Purpose of $match in Aggregation Pipeline\n",
        "\n",
        "The $match stage filters documents based on conditions, similar to a SQL WHERE clause, optimizing data flow for subsequent stages in the pipeline.\n",
        "\n",
        "22. Securing Access to a MongoDB Database\n",
        "\n",
        "Access is secured using strong authentication, user roles, IP whitelisting, TLS/SSL encryption, and proper firewall configurations to protect data from unauthorized access.\n",
        "\n",
        "23. MongoDB’s WiredTiger Storage Engine\n",
        "\n",
        "WiredTiger provides high performance and compression, handling concurrent writes efficiently and ensuring durability. It is the default storage engine in MongoDB.\n",
        "\n",
        "\n",
        "\n",
        "\n",
        "\n",
        "\n",
        "\n"
      ],
      "metadata": {
        "id": "1hbhkeKSSMXp"
      }
    },
    {
      "cell_type": "code",
      "source": [
        "!pip install pymongo"
      ],
      "metadata": {
        "colab": {
          "base_uri": "https://localhost:8080/"
        },
        "id": "8xDKN2dKl1C3",
        "outputId": "f64fac1e-dc7c-441e-bd0a-f2b1283d1251"
      },
      "execution_count": 13,
      "outputs": [
        {
          "output_type": "stream",
          "name": "stdout",
          "text": [
            "Requirement already satisfied: pymongo in /usr/local/lib/python3.11/dist-packages (4.10.1)\n",
            "Requirement already satisfied: dnspython<3.0.0,>=1.16.0 in /usr/local/lib/python3.11/dist-packages (from pymongo) (2.7.0)\n"
          ]
        }
      ]
    },
    {
      "source": [
        "import pandas as pd\n",
        "from pymongo import MongoClient\n",
        "import numpy as np\n",
        "import pandas as pd\n",
        "import matplotlib.pyplot as plt\n",
        "\n",
        "\n",
        "# 1. Load the Superstore dataset into MongoDB\n",
        "def load_csv_to_mongodb(csv_path, db_name, collection_name):\n",
        "    client = MongoClient(\"mongodb://localhost:27017/\")\n",
        "    db = client[db_name]\n",
        "    collection = db[collection_name]\n",
        "\n",
        "    data = pd.read_csv('/content/superstore.csv', encoding='latin-1')\n",
        "    collection.insert_many(data.to_dict(\"records\"))\n",
        "    print(\"Data loaded into MongoDB.\")\n",
        "\n"
      ],
      "cell_type": "code",
      "metadata": {
        "id": "Ul_9Lt_6mu3X"
      },
      "execution_count": 14,
      "outputs": []
    },
    {
      "cell_type": "code",
      "source": [
        "# 2. Retrieve and print all documents from the Orders collection\n",
        "def print_all_documents(db_name, collection_name):\n",
        "    client = MongoClient(\"mongodb://localhost:27017/\")\n",
        "    collection = client[db_name][collection_name]\n",
        "    for doc in collection.find():\n",
        "        print(doc)"
      ],
      "metadata": {
        "id": "uN_7Mw3OlqSK"
      },
      "execution_count": 15,
      "outputs": []
    },
    {
      "cell_type": "code",
      "source": [
        "# 3. Count and display the total number of documents in the Orders collection\n",
        "def count_documents(db_name, collection_name):\n",
        "    client = MongoClient(\"mongodb://localhost:27017/\")\n",
        "    collection = client[db_name][collection_name]\n",
        "    count = collection.count_documents({})\n",
        "    print(f\"Total documents: {count}\")"
      ],
      "metadata": {
        "id": "NXAhP11ym61Q"
      },
      "execution_count": 16,
      "outputs": []
    },
    {
      "cell_type": "code",
      "source": [
        "# 4. Fetch all orders from the \"West\" region\n",
        "def fetch_orders_from_region(db_name, collection_name, region):\n",
        "    client = MongoClient(\"mongodb://localhost:27017/\")\n",
        "    collection = client[db_name][collection_name]\n",
        "    results = collection.find({\"Region\": region})\n",
        "    for doc in results:\n",
        "        print(doc)"
      ],
      "metadata": {
        "id": "mM9bmfn1m_hQ"
      },
      "execution_count": 17,
      "outputs": []
    },
    {
      "cell_type": "code",
      "source": [
        "# 5. Find orders where Sales > 500\n",
        "def fetch_orders_sales_gt(db_name, collection_name, sales_value):\n",
        "    client = MongoClient(\"mongodb://localhost:27017/\")\n",
        "    collection = client[db_name][collection_name]\n",
        "    results = collection.find({\"Sales\": {\"$gt\": sales_value}})\n",
        "    for doc in results:\n",
        "        print(doc)"
      ],
      "metadata": {
        "id": "TYs5OyoznBy9"
      },
      "execution_count": 18,
      "outputs": []
    },
    {
      "cell_type": "code",
      "source": [
        "# 6. Fetch top 3 orders with the highest Profit\n",
        "def fetch_top_profit_orders(db_name, collection_name, top_n=3):\n",
        "    client = MongoClient(\"mongodb://localhost:27017/\")\n",
        "    collection = client[db_name][collection_name]\n",
        "    results = collection.find().sort(\"Profit\", -1).limit(top_n)\n",
        "    for doc in results:\n",
        "        print(doc)"
      ],
      "metadata": {
        "id": "lFFvyondnEFs"
      },
      "execution_count": 19,
      "outputs": []
    },
    {
      "cell_type": "code",
      "source": [
        "# 7. Update Ship Mode from \"First Class\" to \"Premium Class\"\n",
        "def update_ship_mode(db_name, collection_name):\n",
        "    client = MongoClient(\"mongodb://localhost:27017/\")\n",
        "    collection = client[db_name][collection_name]\n",
        "    collection.update_many({\"Ship Mode\": \"First Class\"}, {\"$set\": {\"Ship Mode\": \"Premium Class\"}})\n",
        "    print(\"Updated Ship Mode from 'First Class' to 'Premium Class'.\")"
      ],
      "metadata": {
        "id": "KqvXJ1FrnGsS"
      },
      "execution_count": 20,
      "outputs": []
    },
    {
      "cell_type": "code",
      "source": [
        "# 8. Delete all orders where Sales < 50\n",
        "def delete_low_sales_orders(db_name, collection_name, sales_value):\n",
        "    client = MongoClient(\"mongodb://localhost:27017/\")\n",
        "    collection = client[db_name][collection_name]\n",
        "    result = collection.delete_many({\"Sales\": {\"$lt\": sales_value}})\n",
        "    print(f\"Deleted {result.deleted_count} documents where Sales < {sales_value}.\")"
      ],
      "metadata": {
        "id": "NJ6acvTWnJ26"
      },
      "execution_count": 21,
      "outputs": []
    },
    {
      "cell_type": "code",
      "source": [
        "# 9. Use aggregation to group orders by Region and calculate total sales per region\n",
        "def calculate_sales_per_region(db_name, collection_name):\n",
        "    client = MongoClient(\"mongodb://localhost:27017/\")\n",
        "    collection = client[db_name][collection_name]\n",
        "    pipeline = [\n",
        "        {\"$group\": {\"_id\": \"$Region\", \"TotalSales\": {\"$sum\": \"$Sales\"}}},\n",
        "        {\"$sort\": {\"TotalSales\": -1}}\n",
        "    ]\n",
        "    results = collection.aggregate(pipeline)\n",
        "    for result in results:\n",
        "        print(result)"
      ],
      "metadata": {
        "id": "RNahQGEEnMjp"
      },
      "execution_count": 22,
      "outputs": []
    },
    {
      "cell_type": "code",
      "source": [
        "# 10. Fetch all distinct values for Ship Mode from the collection\n",
        "def fetch_distinct_ship_modes(db_name, collection_name):\n",
        "    client = MongoClient(\"mongodb://localhost:27017/\")\n",
        "    collection = client[db_name][collection_name]\n",
        "    distinct_modes = collection.distinct(\"Ship Mode\")\n",
        "    print(\"Distinct Ship Modes:\", distinct_modes)"
      ],
      "metadata": {
        "id": "ioqyu8yLnPmj"
      },
      "execution_count": 23,
      "outputs": []
    },
    {
      "cell_type": "code",
      "source": [
        "# 11. Count the number of orders for each category\n",
        "def count_orders_per_category(db_name, collection_name):\n",
        "    client = MongoClient(\"mongodb://localhost:27017/\")\n",
        "    collection = client[db_name][collection_name]\n",
        "    pipeline = [\n",
        "        {\"$group\": {\"_id\": \"$Category\", \"OrderCount\": {\"$sum\": 1}}},\n",
        "        {\"$sort\": {\"OrderCount\": -1}}\n",
        "    ]\n",
        "    results = collection.aggregate(pipeline)\n",
        "    for result in results:\n",
        "        print(result)"
      ],
      "metadata": {
        "id": "5YmWlBgxnTGD"
      },
      "execution_count": 24,
      "outputs": []
    }
  ]
}